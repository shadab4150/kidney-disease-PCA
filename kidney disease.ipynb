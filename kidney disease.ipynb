{
 "cells": [
  {
   "cell_type": "code",
   "execution_count": 25,
   "metadata": {
    "collapsed": true
   },
   "outputs": [],
   "source": [
    "import pandas as pd\n",
    "import matplotlib.pyplot as plt\n",
    "import matplotlib\n",
    "import assignment2_helper as helper\n",
    "\n",
    "\n",
    "matplotlib.style.use('ggplot')"
   ]
  },
  {
   "cell_type": "code",
   "execution_count": 26,
   "metadata": {
    "collapsed": false
   },
   "outputs": [
    {
     "name": "stdout",
     "output_type": "stream",
     "text": [
      "    id   age    bp     sg   al   su       rbc        pc         pcc  \\\n",
      "3    3  48.0  70.0  1.005  4.0  0.0    normal  abnormal     present   \n",
      "9    9  53.0  90.0  1.020  2.0  0.0  abnormal  abnormal     present   \n",
      "11  11  63.0  70.0  1.010  3.0  0.0  abnormal  abnormal     present   \n",
      "14  14  68.0  80.0  1.010  3.0  2.0    normal  abnormal     present   \n",
      "20  20  61.0  80.0  1.015  2.0  0.0  abnormal  abnormal  notpresent   \n",
      "\n",
      "            ba      ...        pcv     wc   rc  htn   dm  cad appet   pe  ane  \\\n",
      "3   notpresent      ...         32   6700  3.9  yes   no   no  poor  yes  yes   \n",
      "9   notpresent      ...         29  12100  3.7  yes  yes   no  poor   no  yes   \n",
      "11  notpresent      ...         32   4500  3.8  yes  yes   no  poor  yes   no   \n",
      "14     present      ...         16  11000  2.6  yes  yes  yes  poor  yes   no   \n",
      "20  notpresent      ...         24   9200  3.2  yes  yes  yes  poor  yes  yes   \n",
      "\n",
      "   classification  \n",
      "3             ckd  \n",
      "9             ckd  \n",
      "11            ckd  \n",
      "14            ckd  \n",
      "20            ckd  \n",
      "\n",
      "[5 rows x 26 columns]\n",
      "       bgr      wc   rc\n",
      "3    117.0    6700  3.9\n",
      "9     70.0   12100  3.7\n",
      "11   380.0    4500  3.8\n",
      "14   157.0   11000  2.6\n",
      "20   173.0    9200  3.2\n",
      "22    95.0    6900  3.4\n",
      "27   264.0    9600  4.1\n",
      "48    70.0   18900  3.5\n",
      "58   253.0    7200  4.3\n",
      "71   163.0   14600  3.2\n",
      "74   129.0    6400  3.4\n",
      "76   133.0  \\t6200    4\n",
      "84    76.0    3800  2.1\n",
      "90   280.0    9800  4.2\n",
      "91   210.0   12500  5.6\n",
      "92   219.0    5600  3.6\n",
      "93   295.0    7000  3.2\n",
      "127  118.0   15200  4.3\n",
      "128  224.0    5000  2.9\n",
      "130  128.0   16300  2.7\n",
      "133  118.0  \\t8400    8\n",
      "144  105.0   10500  4.1\n",
      "147  288.0   15200    3\n",
      "153  273.0   14600  2.9\n",
      "157  122.0    7900  3.9\n",
      "159  303.0   10900  4.3\n",
      "171  102.0   12800  3.1\n",
      "176  107.0   12400  3.9\n",
      "181  117.0   19100  3.7\n",
      "189  239.0    7500  3.4\n",
      "..     ...     ...  ...\n",
      "368   82.0    9400  5.9\n",
      "369  107.0   10300  4.8\n",
      "370   83.0    9300  5.4\n",
      "371   79.0    6500    5\n",
      "372  109.0   10500  5.5\n",
      "373  133.0    9200  4.9\n",
      "374  111.0    8000  6.4\n",
      "375   74.0    9700  5.6\n",
      "376   88.0    9100  5.2\n",
      "377   97.0    6400  4.8\n",
      "379   78.0    5400  5.7\n",
      "380  113.0    6500  4.9\n",
      "382   75.0    6000  6.5\n",
      "383  119.0    5100    5\n",
      "384  132.0   11000  4.5\n",
      "385  113.0    8000  5.1\n",
      "386  100.0    5700  6.5\n",
      "387   93.0    6200  5.2\n",
      "388   94.0    9500  6.4\n",
      "389  112.0    7200  5.8\n",
      "390   99.0    6300  5.3\n",
      "391   85.0    5800  6.3\n",
      "392  133.0    6600  5.5\n",
      "393  117.0    7400  5.4\n",
      "394  137.0    9500  4.6\n",
      "395  140.0    6700  4.9\n",
      "396   75.0    7800  6.2\n",
      "397  100.0    6600  5.4\n",
      "398  114.0    7200  5.9\n",
      "399  131.0    6800  6.1\n",
      "\n",
      "[158 rows x 3 columns]\n",
      "bgr    float64\n",
      "wc      object\n",
      "rc      object\n",
      "dtype: object\n"
     ]
    }
   ],
   "source": [
    "scaleFeatures = False\n",
    "\n",
    "\n",
    "df = pd.read_csv('F:\\\\CSV files\\\\kidney_disease.csv')\n",
    "df.dropna(axis = 0, how = 'any', inplace = True)\n",
    "print(df.head())\n",
    "\n",
    "\n",
    "labels = ['red' if i=='ckd' else 'green' for i in df.classification]\n",
    "\n",
    "\n",
    "df = df[['bgr', 'wc', 'rc']]\n",
    "\n",
    "\n",
    "print(df)\n",
    "print(df.dtypes) \t"
   ]
  },
  {
   "cell_type": "code",
   "execution_count": 27,
   "metadata": {
    "collapsed": false
   },
   "outputs": [
    {
     "name": "stdout",
     "output_type": "stream",
     "text": [
      "       bgr     wc   rc\n",
      "3    117.0   6700  3.9\n",
      "9     70.0  12100  3.7\n",
      "11   380.0   4500  3.8\n",
      "14   157.0  11000  2.6\n",
      "20   173.0   9200  3.2\n",
      "22    95.0   6900  3.4\n",
      "27   264.0   9600  4.1\n",
      "48    70.0  18900  3.5\n",
      "58   253.0   7200  4.3\n",
      "71   163.0  14600  3.2\n",
      "74   129.0   6400  3.4\n",
      "76   133.0   6200  4.0\n",
      "84    76.0   3800  2.1\n",
      "90   280.0   9800  4.2\n",
      "91   210.0  12500  5.6\n",
      "92   219.0   5600  3.6\n",
      "93   295.0   7000  3.2\n",
      "127  118.0  15200  4.3\n",
      "128  224.0   5000  2.9\n",
      "130  128.0  16300  2.7\n",
      "133  118.0   8400  8.0\n",
      "144  105.0  10500  4.1\n",
      "147  288.0  15200  3.0\n",
      "153  273.0  14600  2.9\n",
      "157  122.0   7900  3.9\n",
      "159  303.0  10900  4.3\n",
      "171  102.0  12800  3.1\n",
      "176  107.0  12400  3.9\n",
      "181  117.0  19100  3.7\n",
      "189  239.0   7500  3.4\n",
      "..     ...    ...  ...\n",
      "368   82.0   9400  5.9\n",
      "369  107.0  10300  4.8\n",
      "370   83.0   9300  5.4\n",
      "371   79.0   6500  5.0\n",
      "372  109.0  10500  5.5\n",
      "373  133.0   9200  4.9\n",
      "374  111.0   8000  6.4\n",
      "375   74.0   9700  5.6\n",
      "376   88.0   9100  5.2\n",
      "377   97.0   6400  4.8\n",
      "379   78.0   5400  5.7\n",
      "380  113.0   6500  4.9\n",
      "382   75.0   6000  6.5\n",
      "383  119.0   5100  5.0\n",
      "384  132.0  11000  4.5\n",
      "385  113.0   8000  5.1\n",
      "386  100.0   5700  6.5\n",
      "387   93.0   6200  5.2\n",
      "388   94.0   9500  6.4\n",
      "389  112.0   7200  5.8\n",
      "390   99.0   6300  5.3\n",
      "391   85.0   5800  6.3\n",
      "392  133.0   6600  5.5\n",
      "393  117.0   7400  5.4\n",
      "394  137.0   9500  4.6\n",
      "395  140.0   6700  4.9\n",
      "396   75.0   7800  6.2\n",
      "397  100.0   6600  5.4\n",
      "398  114.0   7200  5.9\n",
      "399  131.0   6800  6.1\n",
      "\n",
      "[158 rows x 3 columns]\n",
      "bgr    float64\n",
      "wc       int64\n",
      "rc     float64\n",
      "dtype: object\n"
     ]
    }
   ],
   "source": [
    "df.bgr = pd.to_numeric(df.bgr)\n",
    "df.wc = pd.to_numeric(df.wc)\n",
    "df.rc = pd.to_numeric(df.rc)\n",
    "print(df)\n",
    "print(df.dtypes) \t"
   ]
  },
  {
   "cell_type": "code",
   "execution_count": 28,
   "metadata": {
    "collapsed": false
   },
   "outputs": [
    {
     "name": "stdout",
     "output_type": "stream",
     "text": [
      "bgr    4.217182e+03\n",
      "wc     9.777380e+06\n",
      "rc     1.039104e+00\n",
      "dtype: float64\n",
      "This is the describe output:                bgr            wc          rc\n",
      "count  158.000000    158.000000  158.000000\n",
      "mean   131.341772   8475.949367    4.891772\n",
      "std     64.939832   3126.880181    1.019364\n",
      "min     70.000000   3800.000000    2.100000\n",
      "25%     97.000000   6525.000000    4.500000\n",
      "50%    115.500000   7800.000000    4.950000\n",
      "75%    131.750000   9775.000000    5.600000\n",
      "max    490.000000  26400.000000    8.000000\n"
     ]
    }
   ],
   "source": [
    "print(df.var())\n",
    "print(\"This is the describe output: \", df.describe())\n"
   ]
  },
  {
   "cell_type": "code",
   "execution_count": 29,
   "metadata": {
    "collapsed": false
   },
   "outputs": [
    {
     "data": {
      "image/png": "[encoded data removed]",
      "text/plain": [
       "<Figure size 432x288 with 1 Axes>"
      ]
     },
     "metadata": {},
     "output_type": "display_data"
    }
   ],
   "source": [
    "if scaleFeatures: df = helper.scaleFeatures(df)\n",
    "\n",
    "\n",
    "from sklearn.decomposition import PCA\n",
    "pca = PCA(n_components = 2)\n",
    "pca.fit(df)\n",
    "T = pca.transform(df)\n",
    "\n",
    "\n",
    "ax = helper.drawVectors(T, pca.components_, df.columns.values, plt, scaleFeatures)\n",
    "T = pd.DataFrame(T)\n",
    "T.columns = ['component1', 'component2']\n",
    "T.plot.scatter(x='component1', y='component2', marker='o', c=labels, alpha=0.75, ax=ax)\n",
    "plt.show()\n"
   ]
  },
  {
   "cell_type": "code",
   "execution_count": null,
   "metadata": {
    "collapsed": true
   },
   "outputs": [],
   "source": []
  }
 ],
 "metadata": {
  "kernelspec": {
   "display_name": "Python 3",
   "language": "python",
   "name": "python3"
  },
  "language_info": {
   "codemirror_mode": {
    "name": "ipython",
    "version": 3
   },
   "file_extension": ".py",
   "mimetype": "text/x-python",
   "name": "python",
   "nbconvert_exporter": "python",
   "pygments_lexer": "ipython3",
   "version": "3.6.5"
  }
 },
 "nbformat": 4,
 "nbformat_minor": 2
}
